{
 "cells": [
  {
   "cell_type": "code",
   "execution_count": 2,
   "metadata": {},
   "outputs": [],
   "source": [
    "# importing the necessary libraries\n",
    "import re\n",
    "import string\n",
    "import numpy as np\n",
    "import matplotlib.pyplot as plt\n",
    "import nltk\n",
    "from nltk import pos_tag\n",
    "from nltk.tokenize import word_tokenize\n",
    "from nltk.stem.wordnet import WordNetLemmatizer\n",
    "from nltk.corpus.reader.wordnet import NOUN, VERB, ADJ, ADV\n",
    "from nltk.corpus import brown, stopwords\n",
    "from nltk.cluster.util import cosine_distance\n",
    "from operator import itemgetter\n",
    "from newspaper import Article\n",
    "from sklearn.externals import joblib\n",
    "from textblob import Word"
   ]
  },
  {
   "cell_type": "code",
   "execution_count": 3,
   "metadata": {},
   "outputs": [],
   "source": [
    "# Preprocessing the data -- removing the contractions, punctuations\n",
    "def clean_str(string):\n",
    "    string = re.sub(r\"\\'s\", \"\", string)\n",
    "    string = re.sub(r\"\\'ve\", \"\", string)\n",
    "    string = re.sub(r\"n\\'t\", \"\", string)\n",
    "    string = re.sub(r\"\\'re\", \"\", string)\n",
    "    string = re.sub(r\"\\'d\", \"\", string)\n",
    "    string = re.sub(r\"\\'ll\", \"\", string)\n",
    "    string = re.sub(r\",\", \"\", string)\n",
    "    string = re.sub(r\"!\", \" ! \", string)\n",
    "    string = re.sub(r\"\\(\", \"\", string)\n",
    "    string = re.sub(r\"\\)\", \"\", string)\n",
    "    string = re.sub(r\"\\?\", \"\", string)\n",
    "    string = re.sub(r\"'\", \"\", string)\n",
    "    string = re.sub(r\"[^A-Za-z0-9(),!?\\'\\`]\", \" \", string)\n",
    "    string = re.sub(r\"[0-9]\\w+|[0-9]\", \"\", string)\n",
    "    string = re.sub(r\"\\s{2,}\", \" \", string)\n",
    "    return string.strip().lower()"
   ]
  },
  {
   "cell_type": "code",
   "execution_count": 4,
   "metadata": {},
   "outputs": [],
   "source": [
    "# Using Aticle library to fetch the news article from the URL\n",
    "url = \"https://www.bbc.com/news/business-47282603\"\n",
    "article_name = Article(url, language=\"en\")\n",
    "article_name.download()\n",
    "article_name.parse()\n",
    "sentences = article_name.text.split('.')"
   ]
  },
  {
   "cell_type": "code",
   "execution_count": 5,
   "metadata": {},
   "outputs": [
    {
     "name": "stdout",
     "output_type": "stream",
     "text": [
      "45\n"
     ]
    }
   ],
   "source": [
    "# printing number of Sentences\n",
    "print(len(sentences))"
   ]
  },
  {
   "cell_type": "code",
   "execution_count": 6,
   "metadata": {},
   "outputs": [],
   "source": [
    "# Preprocessing -- removing all the stop words, Contactions, Punctuation marks, tokenization\n",
    "class TextCleaner:\n",
    "\n",
    "    def __init__(self):\n",
    "        self.stop_words = set(stopwords.words(\"english\"))\n",
    "        self.punctuations = set(string.punctuation)\n",
    "        self.pos_tags = {\n",
    "            NOUN: ['NN', 'NNS', 'NNP', 'NNPS', 'PRP', 'PRP$', 'WP', 'WP$'],\n",
    "            VERB: ['VB', 'VBD', 'VBG', 'VBN', 'VBP', 'VBZ'],\n",
    "            ADJ: ['JJ', 'JJR', 'JJS'],\n",
    "            ADV: ['RB', 'RBR', 'RBS', 'WRB']\n",
    "        }\n",
    "\n",
    "    def _remove_stop_words(self, words):\n",
    "        return [w for w in words if w not in self.stop_words]\n",
    "\n",
    "    def _remove_regex(self):\n",
    "        self.input_sent = \" \".join([w.lower() for w in self.input_sent])\n",
    "        self.input_sent = re.sub(r\"i'm\", \"i am\", self.input_sent)\n",
    "        self.input_sent = re.sub(r\"he's\", \"he is\", self.input_sent)\n",
    "        self.input_sent = re.sub(r\"she's\", \"she is\", self.input_sent)\n",
    "        self.input_sent = re.sub(r\"that's\", \"that is\", self.input_sent)\n",
    "        self.input_sent = re.sub(r\"what's\", \"what is\", self.input_sent)\n",
    "        self.input_sent = re.sub(r\"where's\", \"where is\", self.input_sent)\n",
    "        self.input_sent = re.sub(r\"\\'ll\", \" will\", self.input_sent)\n",
    "        self.input_sent = re.sub(r\"\\'ve\", \" have\", self.input_sent)\n",
    "        self.input_sent = re.sub(r\"\\'re\", \" are\", self.input_sent)\n",
    "        self.input_sent = re.sub(r\"\\'d\", \" would\", self.input_sent)\n",
    "        self.input_sent = re.sub(r\"won't\", \"will not\", self.input_sent)\n",
    "        self.input_sent = re.sub(r\"can't\", \"cannot\", self.input_sent)\n",
    "        self.input_sent = re.sub(r\"don't\", \"do not\", self.input_sent)\n",
    "        patterns = re.finditer(\"#[\\w]*\", self.input_sent)\n",
    "        for pattern in patterns:\n",
    "            self.input_sent = re.sub(pattern.group().strip(), \"\", self.input_sent)\n",
    "        self.input_sent = \"\".join(ch for ch in self.input_sent if ch not in self.punctuations)\n",
    "\n",
    "    def _tokenize(self):\n",
    "        return word_tokenize(self.input_sent)\n",
    "\n",
    "    def _process_content_for_pos(self, words):\n",
    "        tagged_words = pos_tag(words)\n",
    "        pos_words = []\n",
    "        for word in tagged_words:\n",
    "            flag = False\n",
    "            for key, value in self.pos_tags.items():\n",
    "                if word[1] in value:\n",
    "                    pos_words.append((word[0], key))\n",
    "                    flag = True\n",
    "                    break\n",
    "            if not flag:\n",
    "                pos_words.append((word[0], NOUN))\n",
    "        return pos_words\n",
    "\n",
    "    def _remove_noise(self):\n",
    "        self._remove_regex()\n",
    "        words = self._tokenize()\n",
    "        noise_free_words = self._remove_stop_words(words)\n",
    "        return noise_free_words\n",
    "\n",
    "    def _normalize_text(self, words):\n",
    "        lem = WordNetLemmatizer()\n",
    "        pos_words = self._process_content_for_pos(words)\n",
    "        normalized_words = [lem.lemmatize(w, pos=p) for w, p in pos_words]\n",
    "        return normalized_words\n",
    "\n",
    "    def clean_up(self, input_sent):\n",
    "        self.input_sent = input_sent\n",
    "        cleaned_words = self._remove_noise()\n",
    "        cleaned_words = self._normalize_text(cleaned_words)\n",
    "        return cleaned_words"
   ]
  },
  {
   "cell_type": "code",
   "execution_count": 7,
   "metadata": {},
   "outputs": [],
   "source": [
    "# Implements the PageRank Algorithm\n",
    "def pagerank(M, eps=1.0e-8, d=0.85):\n",
    "    N = M.shape[1]\n",
    "    v = np.random.rand(N, 1)\n",
    "    v = v / np.linalg.norm(v, 1)\n",
    "    last_v = np.ones((N, 1), dtype=np.float32) * np.inf\n",
    "    M_hat = (d * M) + (((1 - d) / N) * np.ones((N, N), dtype=np.float32))\n",
    "\n",
    "    while np.linalg.norm(v - last_v, 2) > eps:\n",
    "        last_v = v\n",
    "        v = np.matmul(M_hat, v)\n",
    "    return v"
   ]
  },
  {
   "cell_type": "code",
   "execution_count": 8,
   "metadata": {},
   "outputs": [],
   "source": [
    "# Calculate the Sentence similarity using cosine simility formula\n",
    "def sentence_similarity(sent1, sent2):\n",
    "    text_cleaner = TextCleaner()\n",
    "\n",
    "    sent1 = text_cleaner.clean_up(sent1)\n",
    "    sent2 = text_cleaner.clean_up(sent2)\n",
    "\n",
    "    all_words = list(set(sent1 + sent2))\n",
    "\n",
    "    vector1 = [0] * len(all_words)\n",
    "    vector2 = [0] * len(all_words)\n",
    "\n",
    "    for w in sent1:\n",
    "        vector1[all_words.index(w)] += 1\n",
    "\n",
    "    for w in sent2:\n",
    "        vector2[all_words.index(w)] += 1\n",
    "\n",
    "    return 1 - cosine_distance(vector1, vector2)\n",
    "\n",
    "\n",
    "# Building the similarity matrix \n",
    "def build_similarity_matrix(sentences):\n",
    "    S = np.zeros((len(sentences), len(sentences)))\n",
    "    for i in range(len(sentences)):\n",
    "        for j in range(len(sentences)):\n",
    "            if i == j:\n",
    "                continue\n",
    "            else:\n",
    "                S[i][j] = sentence_similarity(sentences[i], sentences[j])\n",
    "\n",
    "    for i in range(len(S)):\n",
    "        S[i] /= S[i].sum()\n",
    "    return S"
   ]
  },
  {
   "cell_type": "code",
   "execution_count": 10,
   "metadata": {},
   "outputs": [
    {
     "name": "stderr",
     "output_type": "stream",
     "text": [
      "C:\\Users\\Vijay\\Anaconda3\\lib\\site-packages\\nltk\\cluster\\util.py:133: RuntimeWarning: invalid value encountered in true_divide\n",
      "  sqrt(numpy.dot(u, u)) * sqrt(numpy.dot(v, v))))\n"
     ]
    },
    {
     "name": "stdout",
     "output_type": "stream",
     "text": [
      "[[0.00539328]\n",
      " [0.00369118]\n",
      " [0.01457854]\n",
      " [0.03950977]\n",
      " [0.02602935]\n",
      " [0.02819725]\n",
      " [0.02573308]\n",
      " [0.0293862 ]\n",
      " [0.03497532]\n",
      " [0.00048439]\n",
      " [0.03070952]\n",
      " [0.01832219]\n",
      " [0.00678594]\n",
      " [0.00368468]\n",
      " [0.00446272]\n",
      " [0.01201985]\n",
      " [0.02355387]\n",
      " [0.03563087]\n",
      " [0.04254536]\n",
      " [0.00393646]\n",
      " [0.01454207]\n",
      " [0.04133296]\n",
      " [0.03034834]\n",
      " [0.01468431]\n",
      " [0.01451316]\n",
      " [0.0141319 ]\n",
      " [0.01093743]\n",
      " [0.02953615]\n",
      " [0.02571406]\n",
      " [0.01819962]\n",
      " [0.00413153]\n",
      " [0.02730445]\n",
      " [0.04133197]\n",
      " [0.02449769]\n",
      " [0.01450808]\n",
      " [0.00970609]\n",
      " [0.02117008]\n",
      " [0.03966232]\n",
      " [0.03439783]\n",
      " [0.00754351]\n",
      " [0.03974926]\n",
      " [0.03993895]\n",
      " [0.03132094]\n",
      " [0.0243292 ]\n",
      " [0.0368383 ]]\n",
      "[18, 21, 32, 41, 40, 37, 3, 44, 17, 8, 38, 42, 10, 22, 27, 7, 5, 31, 4, 6, 28, 33, 43, 16, 36, 11, 29, 23, 2, 20, 24, 34, 25, 15, 26, 35, 39, 12, 0, 14, 30, 19, 1, 13, 9]\n"
     ]
    }
   ],
   "source": [
    "S = build_similarity_matrix(sentences)\n",
    "sentence_ranks = pagerank(S)\n",
    "# Printing the TextRanks values of each sentences\n",
    "print(sentence_ranks)\n",
    "ranked_sentence_indexes = [item[0] for item in sorted(enumerate(sentence_ranks), key=lambda item: -item[1])]\n",
    "# Printing the TextRank of each sentence\n",
    "print(ranked_sentence_indexes)"
   ]
  },
  {
   "cell_type": "code",
   "execution_count": 11,
   "metadata": {},
   "outputs": [
    {
     "data": {
      "image/png": "[encoded data removed]",
      "text/plain": [
       "<Figure size 432x288 with 1 Axes>"
      ]
     },
     "metadata": {},
     "output_type": "display_data"
    }
   ],
   "source": [
    "# Plotted the bar graph to see the importance of each sentence\n",
    "plt.bar([item[0] for item in sorted(enumerate(sentence_ranks))], sentence_ranks.T[0])\n",
    "plt.xlabel(\"Sentence No.\")\n",
    "plt.ylabel(\"Importance\")\n",
    "plt.show()"
   ]
  },
  {
   "cell_type": "code",
   "execution_count": 12,
   "metadata": {},
   "outputs": [
    {
     "data": {
      "image/png": "[encoded data removed]",
      "text/plain": [
       "<Figure size 432x288 with 1 Axes>"
      ]
     },
     "metadata": {},
     "output_type": "display_data"
    }
   ],
   "source": [
    "# plotted the graph\n",
    "plt.plot([item[0] for item in sorted(enumerate(sentence_ranks))], sentence_ranks)\n",
    "plt.xlabel(\"Sentence No.\")\n",
    "plt.ylabel(\"Importance\")\n",
    "plt.show()"
   ]
  },
  {
   "cell_type": "code",
   "execution_count": 13,
   "metadata": {},
   "outputs": [],
   "source": [
    "# load model and vectors\n",
    "model = joblib.load('C:/Users/Vijay/Desktop/code/code/model.pkl')\n",
    "vect = joblib.load('C:/Users/Vijay/Desktop/code/code/vectorizer.pkl')\n",
    "\n",
    " # function to accept raw string and to provide news type(class)\n",
    "def check_news_type(news_article): \n",
    "    news_article = [' '.join([Word(word).lemmatize() for word in clean_str(news_article).split()])]\n",
    "    features = vect.transform(news_article)\n",
    "    return str(model.predict(features)[0])"
   ]
  },
  {
   "cell_type": "code",
   "execution_count": 14,
   "metadata": {},
   "outputs": [],
   "source": [
    "# article_name = Article(url, language=\"en\")\n",
    "# article_name.download()\n",
    "# article_name.parse()\n",
    "p = article_name.text"
   ]
  },
  {
   "cell_type": "code",
   "execution_count": 15,
   "metadata": {},
   "outputs": [
    {
     "name": "stdout",
     "output_type": "stream",
     "text": [
      "-------------TOPIC------------------\n",
      "business\n",
      "-------------SUMMARY----------------\n",
      "1. Honda's Swindon plant produces both VTEC turbo petrol engines and diesel i-DTEC engines\n",
      "2. And Toyota and Jaguar Land Rover have expressed concern about the risk of a potential no-deal Brexit in recent months\n",
      "3. \"Were there clues this was coming?Only last autumn, Honda said it was committed to UK-based production regardless of the outcome of Brexit negotiations\n",
      "4. In 1989, the operations expanded to producing engines\n",
      "5. Three years later, a car plant was added, which began producing the Honda Accord\n"
     ]
    }
   ],
   "source": [
    "# created the variable for the number of sentences we want for the summary\n",
    "SUMMARY_SIZE = 5\n",
    "print(\"-------------TOPIC------------------\")\n",
    "# Printing the category of the News Article using the classification Algorithm\n",
    "print(check_news_type(p))\n",
    "print(\"-------------SUMMARY----------------\")\n",
    "selected_sentences = sorted(ranked_sentence_indexes[:SUMMARY_SIZE])\n",
    "summary = itemgetter(*selected_sentences)(sentences)\n",
    "# Printing the top 5 Sentences on the basis of TextRank Algorithm\n",
    "for i in range(len(summary)):\n",
    "    print(str(i+1)+\". \"+''.join(summary[i].splitlines()).strip())"
   ]
  },
  {
   "cell_type": "code",
   "execution_count": null,
   "metadata": {},
   "outputs": [],
   "source": []
  }
 ],
 "metadata": {
  "kernelspec": {
   "display_name": "Python 3",
   "language": "python",
   "name": "python3"
  },
  "language_info": {
   "codemirror_mode": {
    "name": "ipython",
    "version": 3
   },
   "file_extension": ".py",
   "mimetype": "text/x-python",
   "name": "python",
   "nbconvert_exporter": "python",
   "pygments_lexer": "ipython3",
   "version": "3.6.3"
  }
 },
 "nbformat": 4,
 "nbformat_minor": 2
}
